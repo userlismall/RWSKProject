{
 "cells": [
  {
   "cell_type": "code",
   "execution_count": 2,
   "id": "9941f8bf",
   "metadata": {},
   "outputs": [],
   "source": [
    "import json\n",
    "import numpy as np\n",
    "import random"
   ]
  },
  {
   "cell_type": "code",
   "execution_count": 3,
   "id": "ecf79a08",
   "metadata": {},
   "outputs": [],
   "source": [
    "def read_json(data_file):\n",
    "    try:\n",
    "        with open(data_file, 'r' ,encoding='utf-8') as file:\n",
    "            content = json.load(file)\n",
    "        return content\n",
    "    except Exception as e:\n",
    "        # 输出错误信息\n",
    "        print(\"错位信息为:{}\".format(e))\n",
    "        # 尝试逐行读取\n",
    "        try:\n",
    "            content = []\n",
    "            with open(data_file, 'r' ,encoding='utf-8') as file:\n",
    "                for line in file:\n",
    "                    content.append(json.loads(line))\n",
    "            return content\n",
    "        except Exception as e:\n",
    "             print(\"错位信息为:{}\".format(e))"
   ]
  },
  {
   "cell_type": "code",
   "execution_count": 3,
   "id": "651f6c28",
   "metadata": {},
   "outputs": [],
   "source": [
    "# 获取初始数据\n",
    "datas_to_trans = read_json(\"/gemini/code/Abstract_extract/ProcessedData/rdfybk/Pass_content.json\")\n",
    "datas_to_trans2 = read_json(\"/gemini/code/Abstract_extract/ProcessedData/rdfybk/Pass_content2.json\")\n",
    "datas_to_trans3 = read_json(\"/gemini/code/Abstract_extract/ProcessedData/rdfybk/Pass_content3.json\")\n",
    "datas_to_trans4 = read_json(\"/gemini/code/Abstract_extract/ProcessedData/rdfybk/Pass_content4.json\")"
   ]
  },
  {
   "cell_type": "code",
   "execution_count": 4,
   "id": "4028445f",
   "metadata": {},
   "outputs": [
    {
     "data": {
      "text/plain": [
       "15884"
      ]
     },
     "execution_count": 4,
     "metadata": {},
     "output_type": "execute_result"
    }
   ],
   "source": [
    "datas_to_trans = datas_to_trans + datas_to_trans2 + datas_to_trans3 + datas_to_trans4\n",
    "len(datas_to_trans)"
   ]
  },
  {
   "cell_type": "code",
   "execution_count": 5,
   "id": "a5618118",
   "metadata": {},
   "outputs": [],
   "source": [
    "head_template = [\n",
    "    \"请你根据给出的学术全文本内容，生成关于该文本的摘要。\",\n",
    "    \"请根据提供的学术文本内容，生成一个该文本的摘要。\",\n",
    "    \"请根据给定的学术全文，撰写一个简要总结。\",\n",
    "    \"请根据所提供的学术文章内容，生成一个概述。\",\n",
    "    \"你需要阅读以下学术文本，并根据其内容编写摘要\",\n",
    "    \"根据给出的学术材料，请你整理出一份摘要。\",\n",
    "    \"请将下面的学术文本内容总结成一个简短的摘要。\",\n",
    "    \"请从提供的学术文本中提炼出摘要内容。\",\n",
    "    \"请根据以下学术文本写一段简短的总结。\",\n",
    "    \"请基于下列学术全文，提炼并生成相关摘要。\"\n",
    "]"
   ]
  },
  {
   "cell_type": "code",
   "execution_count": 6,
   "id": "bdf67069",
   "metadata": {},
   "outputs": [],
   "source": [
    "train_data = []\n",
    "for value in datas_to_trans:\n",
    "    if len(value['content'].split('\\n\\n\\n\\n\\n')[1]) < 10000:\n",
    "        continue\n",
    "    random_number = random.randint(0, 9)\n",
    "    QA_dict = {}\n",
    "    QA_data = value['content']\n",
    "    conversations = []\n",
    "    # 构造单次问答对\n",
    "    first_QA = {}\n",
    "    first_QA['from'] = \"human\"\n",
    "    first_QA[\"value\"] = \"{}\\n-你将获得的文本内容为：{}\".format(head_template[random_number],value['content'].split('\\n\\n\\n\\n\\n')[1])\n",
    "    second_QA = {}\n",
    "    second_QA['from'] = \"gpt\"\n",
    "    second_QA[\"value\"] = value['abstract']\n",
    "    conversations.append(first_QA)\n",
    "    conversations.append(second_QA)\n",
    "    QA_dict['conversations'] = conversations\n",
    "    QA_dict['system'] = \"\"\n",
    "    train_data.append(QA_dict)"
   ]
  },
  {
   "cell_type": "code",
   "execution_count": 7,
   "id": "401aca49",
   "metadata": {},
   "outputs": [],
   "source": [
    "with open('/gemini/code/Abstract_extract/ProcessedData/rdfybk/train_data_abstract_mulIns_big.json', 'w', encoding='utf-8') as f:\n",
    "    json.dump(train_data, f, ensure_ascii=False, indent=2)"
   ]
  },
  {
   "cell_type": "code",
   "execution_count": 12,
   "id": "aa729526",
   "metadata": {},
   "outputs": [
    {
     "data": {
      "text/plain": [
       "15048.124137931034"
      ]
     },
     "execution_count": 12,
     "metadata": {},
     "output_type": "execute_result"
    }
   ],
   "source": [
    "np.mean([len(value['conversations'][0]['value']) for value in train_data])"
   ]
  },
  {
   "cell_type": "markdown",
   "id": "9eeb6636",
   "metadata": {},
   "source": [
    "## 新增实验"
   ]
  },
  {
   "cell_type": "code",
   "execution_count": 4,
   "id": "15f7d760",
   "metadata": {},
   "outputs": [],
   "source": [
    "original_data = read_json(\"/gemini/code/Abstract_extract/ProcessedData/rdfybk/train_data_abstract_mulIns_small.json\")\n",
    "Model72B_output = read_json(\"/gemini/code/Abstract_extract/ProcessedData/rdfybk/Model_outputs_72B_cot_plus.json\")"
   ]
  },
  {
   "cell_type": "code",
   "execution_count": 5,
   "id": "7f403f94",
   "metadata": {},
   "outputs": [],
   "source": [
    "new_train_data_abstract_mulIns_small = []\n",
    "for value1, value2 in zip(original_data[:1000], Model72B_output):\n",
    "    cot_str = value2.split('<最终摘要>')[0]\n",
    "    ori_zuizhong = value1['conversations'][1]['value']\n",
    "    value1['conversations'][1]['value'] = cot_str + '<最终摘要>' + ori_zuizhong\n",
    "    new_train_data_abstract_mulIns_small.append(value1)"
   ]
  },
  {
   "cell_type": "code",
   "execution_count": 10,
   "id": "9a759b6c",
   "metadata": {
    "scrolled": true
   },
   "outputs": [],
   "source": [
    "with open('/gemini/code/Abstract_extract/ProcessedData/rdfybk/new_train_data_abstract_mulIns_small.json', 'w', encoding='utf-8') as f:\n",
    "    json.dump(new_train_data_abstract_mulIns_small, f, ensure_ascii=False, indent=2)"
   ]
  }
 ],
 "metadata": {
  "kernelspec": {
   "display_name": "Python 3 (ipykernel)",
   "language": "python",
   "name": "python3"
  },
  "language_info": {
   "codemirror_mode": {
    "name": "ipython",
    "version": 3
   },
   "file_extension": ".py",
   "mimetype": "text/x-python",
   "name": "python",
   "nbconvert_exporter": "python",
   "pygments_lexer": "ipython3",
   "version": "3.10.12"
  }
 },
 "nbformat": 4,
 "nbformat_minor": 5
}
